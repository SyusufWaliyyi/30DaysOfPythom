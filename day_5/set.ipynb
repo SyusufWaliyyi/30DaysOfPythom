{
 "cells": [
  {
   "cell_type": "markdown",
   "metadata": {},
   "source": [
    "# Sets Excercises"
   ]
  },
  {
   "cell_type": "markdown",
   "metadata": {},
   "source": [
    "##  Q1 Length of the IT set"
   ]
  },
  {
   "cell_type": "code",
   "execution_count": 62,
   "metadata": {},
   "outputs": [
    {
     "name": "stdout",
     "output_type": "stream",
     "text": [
      "{'Facebook', 'Oracle', 'Microsoft', 'Amazon', 'Apple', 'IBM', 'Google'}\n",
      "The lenghth of the sets:  7\n"
     ]
    }
   ],
   "source": [
    "it_companies = {'Facebook', 'Google', 'Microsoft', 'Apple', 'IBM', 'Oracle', 'Amazon'}\n",
    "print(it_companies)\n",
    "print('The lenghth of the sets: ', len(it_companies))"
   ]
  },
  {
   "cell_type": "markdown",
   "metadata": {},
   "source": [
    "### Q2 Adding an element to the IT set"
   ]
  },
  {
   "cell_type": "code",
   "execution_count": 63,
   "metadata": {},
   "outputs": [
    {
     "name": "stdout",
     "output_type": "stream",
     "text": [
      "{'Facebook', 'Oracle', 'Microsoft', 'Amazon', 'Apple', 'IBM', 'Google'}\n",
      "The IT sets are: {'Facebook', 'Oracle', 'Microsoft', 'Amazon', 'Apple', 'IBM', 'Twitter', 'Google'}\n"
     ]
    }
   ],
   "source": [
    "print(it_companies)\n",
    "it_companies.add('Twitter')\n",
    "print('The IT sets are:',it_companies)"
   ]
  },
  {
   "cell_type": "markdown",
   "metadata": {},
   "source": [
    "### Q3 adding multiple elements to the IT set"
   ]
  },
  {
   "cell_type": "code",
   "execution_count": 64,
   "metadata": {},
   "outputs": [
    {
     "name": "stdout",
     "output_type": "stream",
     "text": [
      "The IT sets are: {'Facebook', 'Oracle', 'Microsoft', 'Amazon', 'Apple', 'IBM', 'Twitter', 'Google'}\n",
      "The updated IT sets are: {'Microsoft', 'Tesla', 'Facebook', 'LinkedIn', 'Apple', 'IBM', 'Twitter', 'Google', 'Oracle', 'Amazon', 'SpaceX'}\n"
     ]
    }
   ],
   "source": [
    "print('The IT sets are:',it_companies)\n",
    "it_companies.update(['Tesla', 'SpaceX', 'LinkedIn'])\n",
    "print('The updated IT sets are:',it_companies)"
   ]
  },
  {
   "cell_type": "markdown",
   "metadata": {},
   "source": [
    "### Q4: remove one IT company from the set"
   ]
  },
  {
   "cell_type": "code",
   "execution_count": 65,
   "metadata": {},
   "outputs": [
    {
     "name": "stdout",
     "output_type": "stream",
     "text": [
      "{'Microsoft', 'Tesla', 'Facebook', 'LinkedIn', 'Apple', 'IBM', 'Twitter', 'Google', 'Oracle', 'Amazon', 'SpaceX'}\n",
      "The updated IT sets are: {'Microsoft', 'Tesla', 'LinkedIn', 'Apple', 'IBM', 'Twitter', 'Google', 'Oracle', 'Amazon', 'SpaceX'}\n"
     ]
    }
   ],
   "source": [
    "print(it_companies)\n",
    "it_companies.remove('Facebook')\n",
    "print('The updated IT sets are:',it_companies)"
   ]
  },
  {
   "cell_type": "markdown",
   "metadata": {},
   "source": [
    "### Q5: Differences between remove and discard in a set\n",
    "\n",
    "1. "
   ]
  },
  {
   "cell_type": "markdown",
   "metadata": {},
   "source": [
    "# SET LEVEL 2"
   ]
  },
  {
   "cell_type": "markdown",
   "metadata": {},
   "source": [
    "### Q1: Joining (union) set A and set B"
   ]
  },
  {
   "cell_type": "code",
   "execution_count": 66,
   "metadata": {},
   "outputs": [
    {
     "name": "stdout",
     "output_type": "stream",
     "text": [
      "The set A: {19, 20, 22, 24, 25, 26}\n",
      "The set B: {19, 20, 22, 24, 25, 26, 27, 28}\n",
      "The union of A and B is: {19, 20, 22, 24, 25, 26, 27, 28}\n"
     ]
    }
   ],
   "source": [
    "A = {19, 22, 24, 20, 25, 26}\n",
    "B = {19, 22, 20, 25, 26, 24, 28, 27}\n",
    "\n",
    "print('The set A:', A)\n",
    "print('The set B:', B)\n",
    "\n",
    "print('The union of A and B is:', A.union(B))"
   ]
  },
  {
   "cell_type": "markdown",
   "metadata": {},
   "source": [
    "### Q2: Intersection of A and B"
   ]
  },
  {
   "cell_type": "code",
   "execution_count": 67,
   "metadata": {},
   "outputs": [
    {
     "name": "stdout",
     "output_type": "stream",
     "text": [
      "The set A: {19, 20, 22, 24, 25, 26}\n",
      "The set B: {19, 20, 22, 24, 25, 26, 27, 28}\n",
      "The intersection of A and B is: {19, 20, 22, 24, 25, 26}\n"
     ]
    }
   ],
   "source": [
    "A = {19, 22, 24, 20, 25, 26}\n",
    "B = {19, 22, 20, 25, 26, 24, 28, 27}\n",
    "\n",
    "print('The set A:', A)\n",
    "print('The set B:', B)\n",
    "\n",
    "print('The intersection of A and B is:', A.intersection(B))\n"
   ]
  },
  {
   "cell_type": "markdown",
   "metadata": {},
   "source": [
    "### Q3: Is A subset of B"
   ]
  },
  {
   "cell_type": "code",
   "execution_count": 68,
   "metadata": {},
   "outputs": [
    {
     "name": "stdout",
     "output_type": "stream",
     "text": [
      "The set A: {19, 20, 22, 24, 25, 26}\n",
      "The set B: {19, 20, 22, 24, 25, 26, 27, 28}\n",
      "is A subset of B? True\n"
     ]
    }
   ],
   "source": [
    "A = {19, 22, 24, 20, 25, 26}\n",
    "B = {19, 22, 20, 25, 26, 24, 28, 27}\n",
    "\n",
    "print('The set A:', A)\n",
    "print('The set B:', B)\n",
    "\n",
    "print('is A subset of B?', A.issubset(B))"
   ]
  },
  {
   "cell_type": "markdown",
   "metadata": {},
   "source": [
    "### 5: Are A and B disjoint sets"
   ]
  },
  {
   "cell_type": "code",
   "execution_count": 69,
   "metadata": {},
   "outputs": [
    {
     "name": "stdout",
     "output_type": "stream",
     "text": [
      "The set A: {19, 20, 22, 24, 25, 26}\n",
      "The set B: {19, 20, 22, 24, 25, 26, 27, 28}\n",
      "Are A and B disjoint? False\n"
     ]
    }
   ],
   "source": [
    "A = {19, 22, 24, 20, 25, 26}\n",
    "B = {19, 22, 20, 25, 26, 24, 28, 27}\n",
    "\n",
    "print('The set A:', A)\n",
    "print('The set B:', B)\n",
    "\n",
    "print('Are A and B disjoint?', A.isdisjoint(B))"
   ]
  },
  {
   "cell_type": "markdown",
   "metadata": {},
   "source": [
    "### Q5: Join A with B and B with A"
   ]
  },
  {
   "cell_type": "code",
   "execution_count": 70,
   "metadata": {},
   "outputs": [
    {
     "name": "stdout",
     "output_type": "stream",
     "text": [
      "The set A: {19, 20, 22, 24, 25, 26}\n",
      "The set B: {19, 20, 22, 24, 25, 26, 27, 28}\n",
      "Joing A With B: {19, 20, 22, 24, 25, 26, 27, 28}\n",
      "Joining B with A: {19, 20, 22, 24, 25, 26, 27, 28}\n"
     ]
    }
   ],
   "source": [
    "A = {19, 22, 24, 20, 25, 26}\n",
    "B = {19, 22, 20, 25, 26, 24, 28, 27}\n",
    "\n",
    "print('The set A:', A)\n",
    "print('The set B:', B)\n",
    "\n",
    "print('Joing A With B:', A.union(B))\n",
    "print('Joining B with A:', B.union(A))"
   ]
  },
  {
   "cell_type": "markdown",
   "metadata": {},
   "source": [
    "### Q6: What is the symmetric difference between A and B"
   ]
  },
  {
   "cell_type": "code",
   "execution_count": 71,
   "metadata": {},
   "outputs": [
    {
     "name": "stdout",
     "output_type": "stream",
     "text": [
      "The set A: {19, 20, 22, 24, 25, 26}\n",
      "The set B: {19, 20, 22, 24, 25, 26, 27, 28}\n",
      "The difference between A and B: set()\n",
      "The difference between B and A: {27, 28}\n"
     ]
    }
   ],
   "source": [
    "A = {19, 22, 24, 20, 25, 26}\n",
    "B = {19, 22, 20, 25, 26, 24, 28, 27}\n",
    "\n",
    "print('The set A:', A)\n",
    "print('The set B:', B)\n",
    "\n",
    "print('The difference between A and B:', A.difference(B))\n",
    "print('The difference between B and A:', B.difference(A))"
   ]
  },
  {
   "cell_type": "markdown",
   "metadata": {},
   "source": [
    "### Q7: Delete the sets completely"
   ]
  },
  {
   "cell_type": "code",
   "execution_count": 72,
   "metadata": {},
   "outputs": [
    {
     "ename": "NameError",
     "evalue": "name 'A' is not defined",
     "output_type": "error",
     "traceback": [
      "\u001b[1;31m---------------------------------------------------------------------------\u001b[0m",
      "\u001b[1;31mNameError\u001b[0m                                 Traceback (most recent call last)",
      "Cell \u001b[1;32mIn[72], line 8\u001b[0m\n\u001b[0;32m      5\u001b[0m \u001b[38;5;28;01mdel\u001b[39;00m A\n\u001b[0;32m      6\u001b[0m \u001b[38;5;28;01mdel\u001b[39;00m B\n\u001b[1;32m----> 8\u001b[0m \u001b[38;5;28mprint\u001b[39m(\u001b[38;5;124m'\u001b[39m\u001b[38;5;124mThe set A after deletion:\u001b[39m\u001b[38;5;124m'\u001b[39m, \u001b[43mA\u001b[49m)\n\u001b[0;32m      9\u001b[0m \u001b[38;5;28mprint\u001b[39m(\u001b[38;5;124m'\u001b[39m\u001b[38;5;124mThe set B after deletion:\u001b[39m\u001b[38;5;124m'\u001b[39m, B)\n",
      "\u001b[1;31mNameError\u001b[0m: name 'A' is not defined"
     ]
    }
   ],
   "source": [
    "A = {19, 22, 24, 20, 25, 26}\n",
    "B = {19, 22, 20, 25, 26, 24, 28, 27}\n",
    "\n",
    "\n",
    "del A\n",
    "del B\n",
    "\n",
    "print('The set A after deletion:', A)\n",
    "print('The set B after deletion:', B)"
   ]
  },
  {
   "cell_type": "markdown",
   "metadata": {},
   "source": [
    "# Sets Exercises: Level 3"
   ]
  },
  {
   "cell_type": "markdown",
   "metadata": {},
   "source": [
    "### Q1: Convert the ages to a set and compare the length of the list and the set, which one is bigger?"
   ]
  },
  {
   "cell_type": "code",
   "execution_count": null,
   "metadata": {},
   "outputs": [
    {
     "name": "stdout",
     "output_type": "stream",
     "text": [
      "The list is: [22, 19, 24, 25, 26, 24, 25, 24]\n",
      "The set is: {19, 22, 24, 25, 26}\n",
      "The length of the list is: 8\n",
      "the length of the set is: 5\n",
      "Is the length of the list greater than the length of the set? True\n"
     ]
    }
   ],
   "source": [
    "age = [22, 19, 24, 25, 26, 24, 25, 24]\n",
    "print('The list is:', age)\n",
    "AGE = (set(age))\n",
    "print('The set is:',AGE)\n",
    "\n",
    "print('The length of the list is:', len(age))\n",
    "print('the length of the set is:', len(AGE))\n",
    "\n",
    "print('Is the length of the list greater than the length of the set?', len(AGE) < len(age))"
   ]
  },
  {
   "cell_type": "markdown",
   "metadata": {},
   "source": [
    "### Q2: Explain the difference between the following data types: string, list, tuple and se"
   ]
  },
  {
   "cell_type": "markdown",
   "metadata": {},
   "source": [
    "string| list| tuple| set\n",
    "|_____|_____|_____|___|"
   ]
  },
  {
   "cell_type": "markdown",
   "metadata": {},
   "source": [
    "### Q3:"
   ]
  },
  {
   "cell_type": "code",
   "execution_count": null,
   "metadata": {},
   "outputs": [],
   "source": [
    "Teacher = 'I am a teacher and I love to inspire and teach people'"
   ]
  }
 ],
 "metadata": {
  "kernelspec": {
   "display_name": "Python 3",
   "language": "python",
   "name": "python3"
  },
  "language_info": {
   "codemirror_mode": {
    "name": "ipython",
    "version": 3
   },
   "file_extension": ".py",
   "mimetype": "text/x-python",
   "name": "python",
   "nbconvert_exporter": "python",
   "pygments_lexer": "ipython3",
   "version": "3.13.0"
  }
 },
 "nbformat": 4,
 "nbformat_minor": 2
}
